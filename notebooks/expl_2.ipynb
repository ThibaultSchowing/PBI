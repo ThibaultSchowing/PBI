{
 "cells": [
  {
   "cell_type": "markdown",
   "id": "450ff611",
   "metadata": {},
   "source": [
    "# PhageScope data exploration\n",
    "\n",
    "Basic packages \n",
    "\n",
    "The PhageScope data are downloaded via snakemake and reports generated on up to 50k randomly selected datapoint. \n"
   ]
  },
  {
   "cell_type": "markdown",
   "id": "0f269099",
   "metadata": {},
   "source": [
    "## File list\n",
    "\n"
   ]
  },
  {
   "cell_type": "code",
   "execution_count": null,
   "id": "2a418ee4",
   "metadata": {},
   "outputs": [],
   "source": [
    "import os\n",
    "import sys\n",
    "import pandas as pd\n",
    "import numpy as np\n",
    "import matplotlib.pyplot as plt\n",
    "import seaborn as sns\n",
    "import warnings\n",
    "import logging\n",
    "logging.basicConfig(level=logging.INFO, format='%(asctime)s - %(levelname)s - %(message)s')\n",
    "logger = logging.getLogger(__name__)\n",
    "\n",
    "data_dir = \"../data\"\n"
   ]
  },
  {
   "cell_type": "markdown",
   "id": "2cacdf4f",
   "metadata": {},
   "source": [
    "### Protein Metadata\n",
    "\n",
    "Temporary creation of big lists for later use. "
   ]
  },
  {
   "cell_type": "code",
   "execution_count": null,
   "id": "38561323",
   "metadata": {},
   "outputs": [],
   "source": [
    "# Accumulators\n",
    "chunk_num = 0\n",
    "total_rows = 0\n",
    "phage_ids = []\n",
    "protein_ids = []\n",
    "source = [] # Source of the protein, e.g. DDBJ, CHVD, etc. match the directory names for the fasta files\n",
    "\n",
    "\n",
    "for chunk in pd.read_csv(os.path.join(data_dir, \"merged/merged_annotated_proteins_metadata.csv\"), chunksize=10000):\n",
    "    total_rows += len(chunk)\n",
    "    phage_ids.extend(chunk['Phage_ID'].tolist())\n",
    "    protein_ids.extend(chunk['Protein_ID'].tolist())\n",
    "    source.extend(chunk['Phage_source'].tolist())\n",
    "\n",
    "\n",
    "    # ------------------------------\n",
    "    chunk_num += 1\n",
    "    if chunk_num >= 55:  # Limit to 5 chunks for demonstration\n",
    "        break"
   ]
  },
  {
   "cell_type": "code",
   "execution_count": null,
   "id": "de216c2b",
   "metadata": {},
   "outputs": [],
   "source": [
    "print(pd.Series(source).unique())"
   ]
  },
  {
   "cell_type": "code",
   "execution_count": null,
   "id": "aa62a2a3",
   "metadata": {},
   "outputs": [],
   "source": [
    "\n",
    "#transcription_terminator_metadata = pd.read_csv(os.path.join(data_dir, \"merged/merged_transcription_terminator_metadata.csv\"))\n",
    "#phage_metadata = pd.read_csv(os.path.join(data_dir, \"merged/merged_phage_metadata.csv\"))\n",
    "#phage_protein_metadata = pd.read_csv(os.path.join(data_dir, \"merged/merged_phage_protein_metadata.csv\"))"
   ]
  },
  {
   "cell_type": "markdown",
   "id": "1b2bd443",
   "metadata": {},
   "source": [
    "## Protein Fasta\n",
    "\n",
    "Some sources have one fasta file per protein, other have one fasta file containing all proteins. \n",
    "\n",
    "In total, there are more than 23 milion fasta files (just protein !) Some sources have one file containing multiple sequences, while other sources have one fasta file per sequence. \n",
    "\n",
    "```\n",
    "Unique sources: 13\n",
    "RefSeq: 480642 FASTA files\n",
    "IGVD: 1 FASTA files\n",
    "PhagesDB: 351898 FASTA files\n",
    "GPD: 7616044 FASTA files\n",
    "GOV2: 1 FASTA files\n",
    "CHVD: 1 FASTA files\n",
    "MGV: 10517011 FASTA files\n",
    "DDBJ: 17391 FASTA files\n",
    "STV: 1 FASTA files\n",
    "EMBL: 11095 FASTA files\n",
    "TemPhD: 3465586 FASTA files\n",
    "GVD: 746146 FASTA files\n",
    "Genbank: 217128 FASTA files\n",
    "Total fasta files found: 23422945\n",
    "```\n",
    "\n",
    "To obtain the sequence from the protein ID, we should be able to query the sequences at will and for this, having a coeherent database is vital. We will then merge the sequences in one file per source which should allow later to create a performant database, which is not possible with 23 million files. \n",
    "\n",
    "The structure is like this: \n",
    "\n",
    "```\n",
    "protein_fasta/\n",
    "  └── source1/\n",
    "        ├── source1/\n",
    "        │     ├── phageA/\n",
    "        │     │     ├── file1.fasta\n",
    "        │     │     └── file2.fasta\n",
    "        │     └── phageB/\n",
    "        │           └── file3.fasta\n",
    "  └── source2/\n",
    "        └── single.fasta\n",
    "\n",
    "```\n",
    "\n",
    "### Merging Fasta files per source"
   ]
  },
  {
   "cell_type": "markdown",
   "id": "9b0af2e6",
   "metadata": {},
   "source": [
    "Using the script `merge_protein_fasta.py` with the snakemake rules `snakemake --cores 2 data/protein_fasta_merged/DDBJ.fasta` for each file, it will merge the files if necessary into data/protein_fasta_merged. \n",
    "\n",
    "Visualize with `snakemake --cores 4 --dag | dot -Tsvg > dag_all.svg`\n",
    "\n"
   ]
  },
  {
   "cell_type": "code",
   "execution_count": null,
   "id": "773d6fdb",
   "metadata": {},
   "outputs": [],
   "source": [
    "fasta_files"
   ]
  }
 ],
 "metadata": {
  "kernelspec": {
   "display_name": "datamain",
   "language": "python",
   "name": "python3"
  },
  "language_info": {
   "codemirror_mode": {
    "name": "ipython",
    "version": 3
   },
   "file_extension": ".py",
   "mimetype": "text/x-python",
   "name": "python",
   "nbconvert_exporter": "python",
   "pygments_lexer": "ipython3",
   "version": "3.12.11"
  }
 },
 "nbformat": 4,
 "nbformat_minor": 5
}
